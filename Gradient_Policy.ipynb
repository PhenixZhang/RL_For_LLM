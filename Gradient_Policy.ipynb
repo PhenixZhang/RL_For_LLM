{
 "cells": [
  {
   "cell_type": "code",
   "execution_count": 27,
   "metadata": {},
   "outputs": [],
   "source": [
    "import numpy as np\n",
    "import torch\n",
    "from torch import nn\n",
    "from torch.nn import functional as F\n",
    "\n",
    "# 构建训练网络\n",
    "class Net(nn.Module):\n",
    "    def __init__(self, n_states, n_hiddens, n_actions):\n",
    "        super(Net, self).__init__()\n",
    "        # 隐藏层为一层\n",
    "        self.fc1 = nn.Linear(n_states, n_hiddens)\n",
    "        self.fc2 = nn.Linear(n_hiddens, n_actions)\n",
    "    # 前向传播\n",
    "    def forward(self, x):\n",
    "        x = self.fc1(x) # [b, states] ==> [b, n_hiddens]\n",
    "        x = F.relu(x)\n",
    "        x = self.fc2(x) # [b, n_hiddens] ==> [b, n_actions]\n",
    "        # 对batch中每一行样本计算softmax，q值越大，概率越大\n",
    "        x = F.softmax(x, dim=1)\n",
    "        return x\n",
    "    \n",
    "# 强化学习模型\n",
    "class PolicyGradient:\n",
    "    def __init__(self, n_states, n_hiddens, n_actions, learning_rate, gamma):\n",
    "        # 属性分配\n",
    "        self.n_states = n_states # 状态数\n",
    "        self.n_hiddens = n_hiddens # 隐藏层神经元数\n",
    "        self.n_actions = n_actions # 动作数\n",
    "        self.learning_rate = learning_rate # 衰减\n",
    "        self.gamma = gamma # 折扣因子\n",
    "        self._build_net() # 构建网络模型\n",
    "\n",
    "    # 网络构建\n",
    "    def _build_net(self):\n",
    "        self.policy_net = Net(self.n_states, self.n_hiddens, self.n_actions)\n",
    "        self.optimizer = torch.optim.Adam(self.policy_net.parameters(), lr=self.learning_rate)\n",
    "\n",
    "    # 动作选择，根据概率分布随机采样\n",
    "    def take_action(self, state):\n",
    "        state = torch.Tensor(state[np.newaxis, :]) # numpy[n_states] ==> [1,n_states] ==> tensor\n",
    "        # 获取每个人的各动作对应的概率\n",
    "        probs =self.policy_net(state) # [1,n_states]-->[1,n_actions]\n",
    "        # 创建以probs为标准类型的数据分布\n",
    "        action_dist = torch.distributions.Categorical(probs)\n",
    "        # 以该概率分布随机抽样\n",
    "        action = action_dist.sample() # [1,n_actions] ==> [1]\n",
    "        # 将tensor数据变成一个数 int\n",
    "        action = action.item()\n",
    "        return action\n",
    "    \n",
    "    # 获取每个状态最大的state_value\n",
    "    def max_q_value(self, state):\n",
    "        # 维度变换 \n",
    "        state = torch.tensor(state, dtype=torch.float).view(1, -1) # [n_states] ==> [1,n_states]\n",
    "        # 获取状态对应的每个动作的reward的最大值\n",
    "        max_q = self.policy_net(state).max().item() # [1,n_states] ==> [1,n_actions] ==> [1] ==> float\n",
    "        return max_q\n",
    "    \n",
    "    # 训练模型\n",
    "    def learn(self, transitions_dict): # 输入batch组状态[b,n_states]\n",
    "        # 取出该回合中所有的链信息\n",
    "        state_list = transitions_dict['states']\n",
    "        action_list = transitions_dict['actions']\n",
    "        reward_list = transitions_dict['rewards']\n",
    "\n",
    "        G = 0 # 记录该条链的return\n",
    "        self.optimizer.zero_grad() # 优化器清零\n",
    "        # 梯度上升最大化目标函数\n",
    "        for i in reversed(range(len(reward_list))): # 从最后一个reward开始\n",
    "            # 获取每一步的reward\n",
    "            reward = reward_list[i] # float\n",
    "            # 获取每一步的状态 \n",
    "            state = torch.tensor(state_list[i], dtype=torch.float).view(1, -1) # [n_states] ==> [1,n_states]\n",
    "            # 获取每一步的动作 \n",
    "            action = torch.tensor(action_list[i]).view(-1, 1) # [1] ==> [1,1]\n",
    "            # 当前状态下的各个动作价值函数\n",
    "            q_value = self.policy_net(state) # [1,2]\n",
    "            # 获取已action对应的概率 \n",
    "            log_prob = torch.log(q_value.gather(1, action)) # [1,1]\n",
    "            # 计算当前状态的state_value = 及时奖励 + 下一时刻的state_value\n",
    "            G = reward + self.gamma * G\n",
    "            # 计算每一步的损失函数\n",
    "            loss = -log_prob * G\n",
    "            # 反向传播\n",
    "            loss.backward()\n",
    "        # 梯度下降\n",
    "        self.optimizer.step()\n"
   ]
  },
  {
   "cell_type": "code",
   "execution_count": 35,
   "metadata": {},
   "outputs": [
    {
     "data": {
      "text/plain": [
       "29"
      ]
     },
     "execution_count": 35,
     "metadata": {},
     "output_type": "execute_result"
    }
   ],
   "source": [
    "len(transition_dict['rewards'])"
   ]
  },
  {
   "cell_type": "code",
   "execution_count": null,
   "metadata": {},
   "outputs": [],
   "source": []
  },
  {
   "cell_type": "code",
   "execution_count": 28,
   "metadata": {},
   "outputs": [
    {
     "name": "stderr",
     "output_type": "stream",
     "text": [
      "/cpfs01/shared/public/phenix/miniconda3/lib/python3.10/site-packages/gym/utils/passive_env_checker.py:233: DeprecationWarning: `np.bool8` is a deprecated alias for `np.bool_`.  (Deprecated NumPy 1.24)\n",
      "  if not isinstance(terminated, (bool, np.bool8)):\n"
     ]
    },
    {
     "name": "stdout",
     "output_type": "stream",
     "text": [
      "iter:0, return:48.0\n",
      "iter:1, return:30.0\n",
      "iter:2, return:25.0\n",
      "iter:3, return:30.25\n",
      "iter:4, return:32.8\n",
      "iter:5, return:37.166666666666664\n",
      "iter:6, return:33.57142857142857\n",
      "iter:7, return:31.125\n",
      "iter:8, return:29.0\n",
      "iter:9, return:28.6\n",
      "iter:10, return:29.3\n",
      "iter:11, return:29.3\n",
      "iter:12, return:31.8\n",
      "iter:13, return:29.0\n",
      "iter:14, return:25.8\n",
      "iter:15, return:22.8\n",
      "iter:16, return:24.8\n",
      "iter:17, return:25.1\n",
      "iter:18, return:26.4\n",
      "iter:19, return:29.2\n",
      "iter:20, return:25.8\n",
      "iter:21, return:25.5\n",
      "iter:22, return:22.9\n",
      "iter:23, return:23.3\n",
      "iter:24, return:24.5\n",
      "iter:25, return:23.3\n",
      "iter:26, return:24.3\n",
      "iter:27, return:23.9\n",
      "iter:28, return:23.1\n",
      "iter:29, return:22.4\n",
      "iter:30, return:25.8\n",
      "iter:31, return:26.7\n",
      "iter:32, return:28.4\n",
      "iter:33, return:30.7\n",
      "iter:34, return:29.9\n",
      "iter:35, return:31.6\n",
      "iter:36, return:28.6\n",
      "iter:37, return:30.4\n",
      "iter:38, return:30.4\n",
      "iter:39, return:27.7\n",
      "iter:40, return:23.7\n",
      "iter:41, return:23.7\n",
      "iter:42, return:23.5\n",
      "iter:43, return:21.4\n",
      "iter:44, return:23.0\n",
      "iter:45, return:26.7\n",
      "iter:46, return:28.8\n",
      "iter:47, return:26.9\n",
      "iter:48, return:27.9\n",
      "iter:49, return:28.9\n",
      "iter:50, return:30.1\n",
      "iter:51, return:29.5\n",
      "iter:52, return:28.0\n",
      "iter:53, return:27.4\n",
      "iter:54, return:27.6\n",
      "iter:55, return:22.5\n",
      "iter:56, return:20.3\n",
      "iter:57, return:20.7\n",
      "iter:58, return:20.2\n",
      "iter:59, return:18.2\n",
      "iter:60, return:18.0\n",
      "iter:61, return:21.8\n",
      "iter:62, return:21.5\n",
      "iter:63, return:21.3\n",
      "iter:64, return:19.7\n",
      "iter:65, return:25.9\n",
      "iter:66, return:26.6\n",
      "iter:67, return:27.2\n",
      "iter:68, return:26.6\n",
      "iter:69, return:26.7\n",
      "iter:70, return:26.7\n",
      "iter:71, return:25.3\n",
      "iter:72, return:27.8\n",
      "iter:73, return:29.2\n",
      "iter:74, return:29.5\n",
      "iter:75, return:25.0\n",
      "iter:76, return:27.1\n",
      "iter:77, return:26.8\n",
      "iter:78, return:26.6\n",
      "iter:79, return:28.2\n",
      "iter:80, return:27.3\n",
      "iter:81, return:24.8\n",
      "iter:82, return:25.2\n",
      "iter:83, return:26.0\n",
      "iter:84, return:26.4\n",
      "iter:85, return:23.9\n",
      "iter:86, return:22.0\n",
      "iter:87, return:22.7\n",
      "iter:88, return:23.0\n",
      "iter:89, return:23.8\n",
      "iter:90, return:25.9\n",
      "iter:91, return:26.8\n",
      "iter:92, return:26.1\n",
      "iter:93, return:23.6\n",
      "iter:94, return:23.3\n",
      "iter:95, return:24.7\n",
      "iter:96, return:25.3\n",
      "iter:97, return:24.6\n",
      "iter:98, return:24.2\n",
      "iter:99, return:23.7\n"
     ]
    },
    {
     "data": {
      "image/png": "[encoded data removed]",
      "text/plain": [
       "<Figure size 640x480 with 2 Axes>"
      ]
     },
     "metadata": {},
     "output_type": "display_data"
    }
   ],
   "source": [
    "import gym\n",
    "import numpy as np\n",
    "import matplotlib.pyplot as plt\n",
    "import os\n",
    "os.environ[\"SDL_VIDEODRIVER\"] = \"dummy\"\n",
    " \n",
    "# 模型参数设置\n",
    "n_hiddens = 16  # 隐含层个数\n",
    "learning_rate = 2e-3  # 学习率\n",
    "gamma = 0.9  # 折扣因子\n",
    "return_list = []  # 保存每回合的reward\n",
    "max_q_value = 0  # 初始的动作价值函数\n",
    "max_q_value_list = []  # 保存每一step的动作价值函数\n",
    " \n",
    "# 加载环境\n",
    "# 连续性动作\n",
    "env = gym.make(\"CartPole-v1\", render_mode=\"human\")\n",
    "n_states = env.observation_space.shape[0]  # 状态数 4\n",
    "n_actions = env.action_space.n  # 动作数 2\n",
    " \n",
    "# 模型实例化\n",
    "agent = PolicyGradient(n_states=n_states,  # 4\n",
    "                       n_hiddens=n_hiddens,  # 16\n",
    "                       n_actions=n_actions,  # 2\n",
    "                       learning_rate=learning_rate,  # 学习率\n",
    "                       gamma=gamma)  # 折扣因子\n",
    " \n",
    "# 训练 \n",
    "for i in range(100):  # 训练10回合\n",
    "    # 记录每个回合的return\n",
    "    episode_return = 0\n",
    "    # 存放状态\n",
    "    transition_dict = {\n",
    "        'states': [],\n",
    "        'actions': [],\n",
    "        'next_states': [],\n",
    "        'rewards': [],\n",
    "        'dones': [],\n",
    "    }\n",
    "    # 获取初始状态\n",
    "    state = env.reset()[0]\n",
    "    # 结束的标记\n",
    "    done = False\n",
    " \n",
    "    # 开始迭代\n",
    "    while not done:\n",
    "        # 动作选择\n",
    "        action = agent.take_action(state)  # 对某一状态采取动作\n",
    "        # 动作价值函数，曲线平滑\n",
    "        max_q_value = agent.max_q_value(state) * 0.005 + max_q_value * 0.995\n",
    "        # 保存每一step的动作价值函数\n",
    "        max_q_value_list.append(max_q_value)\n",
    "        # 环境更新\n",
    "        next_state, reward, done, _, _ = env.step(action)\n",
    "        # 保存每个回合的所有信息\n",
    "        transition_dict['states'].append(state)\n",
    "        transition_dict['actions'].append(action)\n",
    "        transition_dict['next_states'].append(next_state)\n",
    "        transition_dict['rewards'].append(reward)\n",
    "        transition_dict['dones'].append(done)\n",
    "        # 状态更新\n",
    "        state = next_state\n",
    "        # 记录每个回合的return\n",
    "        episode_return += reward\n",
    " \n",
    "    # 保存每个回合的return\n",
    "    return_list.append(episode_return)\n",
    "    # 一整个回合走完了再训练模型\n",
    "    agent.learn(transition_dict)\n",
    " \n",
    "    # 打印回合信息\n",
    "    print(f'iter:{i}, return:{np.mean(return_list[-10:])}')\n",
    " \n",
    "# 关闭动画\n",
    "env.close()\n",
    "        \n",
    "# -------------------------------------- #\n",
    "# 绘图\n",
    "# -------------------------------------- #\n",
    " \n",
    "plt.subplot(121)\n",
    "plt.plot(return_list)\n",
    "plt.title('return')\n",
    "plt.subplot(122)\n",
    "plt.plot(max_q_value_list)\n",
    "plt.title('max_q_value')\n",
    "plt.show()"
   ]
  },
  {
   "cell_type": "code",
   "execution_count": null,
   "metadata": {},
   "outputs": [],
   "source": []
  },
  {
   "cell_type": "code",
   "execution_count": 4,
   "metadata": {},
   "outputs": [
    {
     "name": "stdout",
     "output_type": "stream",
     "text": [
      "tensor([[0, 1],\n",
      "        [2, 3],\n",
      "        [4, 5]])\n",
      "tensor([[0, 1],\n",
      "        [1, 1],\n",
      "        [0, 0]])\n"
     ]
    }
   ],
   "source": [
    "import torch\n",
    "\n",
    "A = torch.arange(6).reshape(3, 2)\n",
    "print(A)\n",
    "index = torch.randint(0,2,(3,2))\n",
    "print(index)"
   ]
  },
  {
   "cell_type": "code",
   "execution_count": 6,
   "metadata": {},
   "outputs": [
    {
     "data": {
      "text/plain": [
       "tensor([[0, 1],\n",
       "        [3, 3],\n",
       "        [4, 4]])"
      ]
     },
     "execution_count": 6,
     "metadata": {},
     "output_type": "execute_result"
    }
   ],
   "source": [
    "A.gather(dim=1, index=index)"
   ]
  },
  {
   "cell_type": "code",
   "execution_count": 26,
   "metadata": {},
   "outputs": [
    {
     "data": {
      "text/plain": [
       "tensor([[0.2689, 0.7311],\n",
       "        [0.5000, 0.5000]])"
      ]
     },
     "execution_count": 26,
     "metadata": {},
     "output_type": "execute_result"
    }
   ],
   "source": [
    "import torch.nn.functional as F\n",
    "x = torch.tensor([[1.,2.],[1,1]])\n",
    "F.softmax(x, dim=1)"
   ]
  },
  {
   "cell_type": "code",
   "execution_count": 24,
   "metadata": {},
   "outputs": [
    {
     "data": {
      "text/plain": [
       "torch.Size([2, 2])"
      ]
     },
     "execution_count": 24,
     "metadata": {},
     "output_type": "execute_result"
    }
   ],
   "source": [
    "x.shape"
   ]
  },
  {
   "cell_type": "code",
   "execution_count": null,
   "metadata": {},
   "outputs": [],
   "source": []
  }
 ],
 "metadata": {
  "kernelspec": {
   "display_name": "base",
   "language": "python",
   "name": "python3"
  },
  "language_info": {
   "codemirror_mode": {
    "name": "ipython",
    "version": 3
   },
   "file_extension": ".py",
   "mimetype": "text/x-python",
   "name": "python",
   "nbconvert_exporter": "python",
   "pygments_lexer": "ipython3",
   "version": "3.10.12"
  }
 },
 "nbformat": 4,
 "nbformat_minor": 2
}
